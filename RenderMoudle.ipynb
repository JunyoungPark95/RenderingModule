{
 "cells": [
  {
   "cell_type": "code",
   "execution_count": 6,
   "metadata": {},
   "outputs": [],
   "source": [
    "import bpy\n",
    "import numpy as np\n",
    "import matplotlib.pyplot as plt\n",
    "import tempfile\n",
    "from PIL import Image\n",
    "import warnings\n",
    "from helper_functies import *\n",
    "from IPython.display import Image as JupImage\n",
    "import imageio\n",
    "import bmesh\n",
    "import mathutils\n",
    "from mathutils import Vector\n",
    "import os\n",
    "tmpdir=tempfile.TemporaryDirectory()\n",
    "size = [960,1280]\n",
    "my_dpi = 96 # Afhankelijk van monitor\n",
    "\n",
    "def get_img(tmpdir=tmpdir, size=size):\n",
    "    scene = bpy.context.scene\n",
    "    scene.render.resolution_x = size[1]\n",
    "    scene.render.resolution_y = size[0]\n",
    "    scene.render.resolution_percentage = 100\n",
    "    scene.render.filepath=tmpdir.name+\"/image\"\n",
    "    bpy.ops.render.render(write_still=True)\n",
    "    img=Image.open(tmpdir.name+\"/image.png\")\n",
    "    return img"
   ]
  },
  {
   "cell_type": "code",
   "execution_count": 7,
   "metadata": {},
   "outputs": [
    {
     "name": "stdout",
     "output_type": "stream",
     "text": [
      "Progress:   0.00%\r",
      "(  0.0000 sec |   0.0000 sec) Importing OBJ 'obj/test1.obj'...\n",
      "Progress:   0.00%\r",
      "  (  0.0010 sec |   0.0010 sec) Parsing OBJ file...\n",
      "Progress:   0.00%\r",
      "    (  0.0030 sec |   0.0020 sec) Done, loading materials and images...\n",
      "Progress:  33.33%\r",
      "\tMaterial not found MTL: 'obj\\\\test1.mtl'\n",
      "    (  0.0040 sec |   0.0030 sec) Done, building geometries (verts:84 faces:164 materials: 1 smoothgroups:0) ...\n",
      "Progress:  66.67%\r",
      "    (  0.0060 sec |   0.0050 sec) Done.\n",
      "Progress:  66.67%\r",
      "Progress: 100.00%\r",
      "  (  0.0070 sec |   0.0070 sec) Finished importing: 'obj/test1.obj'\n",
      "Progress: 100.00%\r",
      "Progress: 100.00%\r\n",
      "\n",
      "Imported name:  chair_part1.001\n"
     ]
    },
    {
     "data": {
      "text/plain": [
       "<Figure size 800x800 with 0 Axes>"
      ]
     },
     "metadata": {},
     "output_type": "display_data"
    }
   ],
   "source": [
    "zero(my_dpi)\n",
    "#Set the light, RECOMMENDED TYPE :  SUN or POINT \n",
    "bpy.ops.object.lamp_add(type='SUN',location=(5,2,1))\n",
    "\n",
    "#Load meshes .obj\n",
    "file_loc = 'obj/test1.obj'\n",
    "imported_object = bpy.ops.import_scene.obj(filepath=file_loc)\n",
    "obj_object = bpy.context.selected_objects[0]\n",
    "\n",
    "#bpy.ops.transform.resize(value=(0.005, 0.005, 0.005))\n",
    "#bpy.ops.transform.translate(value = (3, -1, -1))\n",
    "\n",
    "bpy.ops.transform.resize(value=(1, 1, 1))\n",
    "bpy.ops.transform.translate(value = (0, 0, 0))\n",
    "\n",
    "\n",
    "print('Imported name: ', obj_object.name)\n",
    "\n",
    "#Set the environment lighting and the color of background\n",
    "obj_object.active_material.use_cast_shadows = False\n",
    "bpy.context.scene.world.light_settings.use_environment_light = True\n",
    "bpy.context.scene.world.horizon_color = (1, 1, 1)    # the color of background\n",
    "#bpy.context.object.rotation_euler[1] = 0.78\n",
    "\n",
    "\n",
    "# implement Wireframe mode -----------------------------------------\n",
    "\n",
    "#bpy.context.scene.render.use_freestyle = False\n",
    "bpy.context.scene.render.use_freestyle = True\n",
    "bpy.context.scene.render.use_edge_enhance = True\n",
    "bpy.context.scene.render.edge_threshold = 255\n",
    "obj_object.active_material.diffuse_color = (1, 1, 1)\n",
    "obj_object.active_material.diffuse_intensity = 1\n",
    "#bpy.context.scene.render.line_thickness_mode = 'RELATIVE'\n",
    "bpy.context.scene.render.line_thickness_mode = 'ABSOLUTE'\n",
    "\n",
    "#--------------------------------------------------------------------\n",
    "\n",
    "\n",
    "#implement Normal mode ----------------------------------------------\n",
    "\n",
    "##### JUNYOUNG : ADD TEXTURE FROM IMAGE AND APPLY TO SLECTED OBJECT #####\n",
    "#obj_object.active_material.use_shadeless = True\n",
    "\n",
    "#realpath = \"C:\\mc23.jpg\"\n",
    "#try:\n",
    "#    img = bpy.data.images.load(realpath)\n",
    "#except:\n",
    "#    raise NameError(\"Cannot load image %s\" % realpath)\n",
    "\n",
    "# Create image texture from image\n",
    "#cTex = bpy.data.textures.new(\"NORMAL\", type='IMAGE')\n",
    "#cTex.image = img\n",
    "\n",
    "# Create material note that it is not same as the \"texture\"\n",
    "#mat = bpy.data.materials.new(\"NORMAL\")\n",
    "\n",
    "# Add texture slot for color texture\n",
    "#mtex = mat.texture_slots.add()\n",
    "#mtex.texture = cTex\n",
    "#mtex.texture_coords = 'NORMAL'\n",
    "#mtex.use_map_color_diffuse = True\n",
    "#mtex.use_map_color_emission = True\n",
    "#mtex.emission_color_factor = 1.0\n",
    "#mtex.use_map_density = False\n",
    "#mtex.mapping = 'FLAT'\n",
    "\n",
    "# assign material to object\n",
    "#obj_object.data.materials.append(mat)\n",
    "\n",
    "# or overwrite an existing material slot via index operator\n",
    "#obj_object.data.materials[0] = mat\n",
    "\n",
    "#----------------------------------------------------------------------\n",
    "\n"
   ]
  },
  {
   "cell_type": "code",
   "execution_count": 8,
   "metadata": {},
   "outputs": [
    {
     "data": {
      "image/png": "[encoded data removed]",
      "text/plain": [
       "<Figure size 432x288 with 1 Axes>"
      ]
     },
     "metadata": {},
     "output_type": "display_data"
    }
   ],
   "source": [
    "#Do render\n",
    "bpy.ops.render.render()\n",
    "bpy.data.images['Render Result'].save_render(filepath = '/tmp/image.png')\n",
    "\n",
    "#Show Image\n",
    "plt.imshow(get_img(size=[1280, 960]))\n",
    "plt.xticks([]);plt.yticks([])\n",
    "plt.show()\n",
    "tmpdir.cleanup()"
   ]
  },
  {
   "cell_type": "code",
   "execution_count": null,
   "metadata": {},
   "outputs": [],
   "source": []
  },
  {
   "cell_type": "code",
   "execution_count": null,
   "metadata": {},
   "outputs": [],
   "source": []
  }
 ],
 "metadata": {
  "kernelspec": {
   "display_name": "Python 3",
   "language": "python",
   "name": "python3"
  },
  "language_info": {
   "codemirror_mode": {
    "name": "ipython",
    "version": 3
   },
   "file_extension": ".py",
   "mimetype": "text/x-python",
   "name": "python",
   "nbconvert_exporter": "python",
   "pygments_lexer": "ipython3",
   "version": "3.6.10"
  }
 },
 "nbformat": 4,
 "nbformat_minor": 4
}
